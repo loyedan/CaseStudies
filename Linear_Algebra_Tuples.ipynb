{
  "nbformat": 4,
  "nbformat_minor": 0,
  "metadata": {
    "colab": {
      "provenance": [],
      "authorship_tag": "ABX9TyOmMXQYQwZt33NtXbPBot7G",
      "include_colab_link": true
    },
    "kernelspec": {
      "name": "python3",
      "display_name": "Python 3"
    },
    "language_info": {
      "name": "python"
    }
  },
  "cells": [
    {
      "cell_type": "markdown",
      "metadata": {
        "id": "view-in-github",
        "colab_type": "text"
      },
      "source": [
        "<a href=\"https://colab.research.google.com/github/loyedan/CaseStudies/blob/main/Linear_Algebra_Tuples.ipynb\" target=\"_parent\"><img src=\"https://colab.research.google.com/assets/colab-badge.svg\" alt=\"Open In Colab\"/></a>"
      ]
    },
    {
      "cell_type": "markdown",
      "source": [
        "# **Linear Algebra - Tuples.ipynb**"
      ],
      "metadata": {
        "id": "TqjU78slCQ19"
      }
    },
    {
      "cell_type": "code",
      "execution_count": 3,
      "metadata": {
        "colab": {
          "base_uri": "https://localhost:8080/"
        },
        "id": "HXNcJ4cICEce",
        "outputId": "f1874d5e-5442-453f-c33c-59b676adfdfb"
      },
      "outputs": [
        {
          "output_type": "stream",
          "name": "stdout",
          "text": [
            "2\n",
            "9\n",
            "5\n",
            "8\n"
          ]
        }
      ],
      "source": [
        "my_tuple = (1, 2, 2, 2, 2, 3, 3 ,3, 4, 5, 1)\n",
        "print(my_tuple.count(1))\n",
        "print(my_tuple.index(5))\n",
        "\n",
        "\n",
        "print(my_tuple.index(3))\n",
        "print(my_tuple.index(4))"
      ]
    },
    {
      "cell_type": "markdown",
      "source": [
        "## **Lambda Functions**"
      ],
      "metadata": {
        "id": "YVM4QCiXDs9-"
      }
    },
    {
      "cell_type": "code",
      "source": [
        "# Example\n",
        "# A regular function\n",
        "def add(x):\n",
        "    return x + y\n",
        "\n",
        "# A lambda representation\n"
      ],
      "metadata": {
        "id": "FOUMPbzZDxtB"
      },
      "execution_count": null,
      "outputs": []
    },
    {
      "cell_type": "code",
      "source": [
        "# sort a list of tuples based on the second item\n",
        "my_list = [(1, \"b\"), (2, \"a\"), (3, \"c\")]\n",
        "sortedlist = sorted(my_list, key=lambda x: x[1])\n",
        "print(sortedlist)"
      ],
      "metadata": {
        "colab": {
          "base_uri": "https://localhost:8080/"
        },
        "id": "mauxptcgE9Ad",
        "outputId": "27dfc0dd-d86d-4511-ec97-4892d61d48fc"
      },
      "execution_count": 4,
      "outputs": [
        {
          "output_type": "stream",
          "name": "stdout",
          "text": [
            "[(2, 'a'), (1, 'b'), (3, 'c')]\n"
          ]
        }
      ]
    },
    {
      "cell_type": "code",
      "source": [
        "# sort a list of tuples based on the second item\n",
        "my_list = [(1, \"b\"), (2, \"a\"), (3, \"c\")]\n",
        "sortedlist = sorted(my_list, key=lambda x: x[0])\n",
        "print(sortedlist)"
      ],
      "metadata": {
        "colab": {
          "base_uri": "https://localhost:8080/"
        },
        "id": "RqXlhOA0Fk5I",
        "outputId": "1f3bae72-0915-46d9-ac52-e80ea03a7daf"
      },
      "execution_count": 6,
      "outputs": [
        {
          "output_type": "stream",
          "name": "stdout",
          "text": [
            "[(1, 'b'), (2, 'a'), (3, 'c')]\n"
          ]
        }
      ]
    },
    {
      "cell_type": "markdown",
      "source": [
        "Example with map()"
      ],
      "metadata": {
        "id": "SQSDrGWWGfkM"
      }
    },
    {
      "cell_type": "code",
      "source": [
        "numnbers = [1, 2, 3, 4, 5]\n",
        "squared = list(map(lambda x: x**2, numbers))\n",
        "print(squared)"
      ],
      "metadata": {
        "colab": {
          "base_uri": "https://localhost:8080/",
          "height": 181
        },
        "id": "1UTlhEeEGjb_",
        "outputId": "9d84f43a-8d87-4a68-a4ba-e29cf1be6da1"
      },
      "execution_count": 9,
      "outputs": [
        {
          "output_type": "error",
          "ename": "NameError",
          "evalue": "name 'numbers' is not defined",
          "traceback": [
            "\u001b[0;31m---------------------------------------------------------------------------\u001b[0m",
            "\u001b[0;31mNameError\u001b[0m                                 Traceback (most recent call last)",
            "\u001b[0;32m<ipython-input-9-ffa20c8f36ec>\u001b[0m in \u001b[0;36m<cell line: 2>\u001b[0;34m()\u001b[0m\n\u001b[1;32m      1\u001b[0m \u001b[0mnumnbers\u001b[0m \u001b[0;34m=\u001b[0m \u001b[0;34m[\u001b[0m\u001b[0;36m1\u001b[0m\u001b[0;34m,\u001b[0m \u001b[0;36m2\u001b[0m\u001b[0;34m,\u001b[0m \u001b[0;36m3\u001b[0m\u001b[0;34m,\u001b[0m \u001b[0;36m4\u001b[0m\u001b[0;34m,\u001b[0m \u001b[0;36m5\u001b[0m\u001b[0;34m]\u001b[0m\u001b[0;34m\u001b[0m\u001b[0;34m\u001b[0m\u001b[0m\n\u001b[0;32m----> 2\u001b[0;31m \u001b[0msquared\u001b[0m \u001b[0;34m=\u001b[0m \u001b[0mlist\u001b[0m\u001b[0;34m(\u001b[0m\u001b[0mmap\u001b[0m\u001b[0;34m(\u001b[0m\u001b[0;32mlambda\u001b[0m \u001b[0mx\u001b[0m\u001b[0;34m:\u001b[0m \u001b[0mx\u001b[0m\u001b[0;34m**\u001b[0m\u001b[0;36m2\u001b[0m\u001b[0;34m,\u001b[0m \u001b[0mnumbers\u001b[0m\u001b[0;34m)\u001b[0m\u001b[0;34m)\u001b[0m\u001b[0;34m\u001b[0m\u001b[0;34m\u001b[0m\u001b[0m\n\u001b[0m\u001b[1;32m      3\u001b[0m \u001b[0mprint\u001b[0m\u001b[0;34m(\u001b[0m\u001b[0msquared\u001b[0m\u001b[0;34m)\u001b[0m\u001b[0;34m\u001b[0m\u001b[0;34m\u001b[0m\u001b[0m\n",
            "\u001b[0;31mNameError\u001b[0m: name 'numbers' is not defined"
          ]
        }
      ]
    },
    {
      "source": [
        "numnbers = [1, 2, 3, 4, 5]\n",
        "squared_numbers = list(map(lambda x: x**2, numnbers)) # Changed numbers to numnbers\n",
        "print(squared_numbers)"
      ],
      "cell_type": "code",
      "metadata": {
        "colab": {
          "base_uri": "https://localhost:8080/"
        },
        "id": "m5u38HSYHkCt",
        "outputId": "7c5a21d4-348b-4629-caae-41ea811cb16e"
      },
      "execution_count": 10,
      "outputs": [
        {
          "output_type": "stream",
          "name": "stdout",
          "text": [
            "[1, 4, 9, 16, 25]\n"
          ]
        }
      ]
    },
    {
      "cell_type": "code",
      "source": [
        "# sort a list of tuples based on the second item\n",
        "my_list = [(1, \"b\"), (2, \"a\"), (3, \"c\")]\n",
        "sortedlist = sorted(my_list, key=lambda x: x[0])\n",
        "print(sortedlist)\n",
        "\n"
      ],
      "metadata": {
        "id": "j3VjfY5jH8W-"
      },
      "execution_count": null,
      "outputs": []
    }
  ]
}